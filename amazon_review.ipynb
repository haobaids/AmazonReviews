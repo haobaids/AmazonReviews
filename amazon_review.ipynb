{
 "cells": [
  {
   "cell_type": "code",
   "execution_count": 34,
   "metadata": {},
   "outputs": [],
   "source": [
    "import pandas as pd\n",
    "import gzip\n",
    "import simplejson as json\n",
    "import seaborn as sns\n",
    "import re"
   ]
  },
  {
   "cell_type": "code",
   "execution_count": 2,
   "metadata": {},
   "outputs": [],
   "source": [
    "def parse(path):\n",
    "  g = gzip.open(path, 'rb')\n",
    "  for l in g:\n",
    "    yield json.loads(l)\n",
    "\n",
    "def getDF(path):\n",
    "  i = 0\n",
    "  df = {}\n",
    "  for d in parse(path):\n",
    "    df[i] = d\n",
    "    i += 1\n",
    "  return pd.DataFrame.from_dict(df, orient='index')\n",
    "\n",
    "df_review = getDF('resources/AMAZON_FASHION.json.gz')"
   ]
  },
  {
   "cell_type": "code",
   "execution_count": 3,
   "metadata": {},
   "outputs": [
    {
     "name": "stdout",
     "output_type": "stream",
     "text": [
      "<class 'pandas.core.frame.DataFrame'>\n",
      "Int64Index: 883636 entries, 0 to 883635\n",
      "Data columns (total 12 columns):\n",
      "overall           883636 non-null float64\n",
      "verified          883636 non-null bool\n",
      "reviewTime        883636 non-null object\n",
      "reviewerID        883636 non-null object\n",
      "asin              883636 non-null object\n",
      "reviewerName      883544 non-null object\n",
      "reviewText        882403 non-null object\n",
      "summary           883103 non-null object\n",
      "unixReviewTime    883636 non-null int64\n",
      "vote              79900 non-null object\n",
      "style             304569 non-null object\n",
      "image             28807 non-null object\n",
      "dtypes: bool(1), float64(1), int64(1), object(9)\n",
      "memory usage: 81.7+ MB\n"
     ]
    }
   ],
   "source": [
    "df_review.info()"
   ]
  },
  {
   "cell_type": "code",
   "execution_count": 4,
   "metadata": {},
   "outputs": [
    {
     "data": {
      "text/html": [
       "<div>\n",
       "<style scoped>\n",
       "    .dataframe tbody tr th:only-of-type {\n",
       "        vertical-align: middle;\n",
       "    }\n",
       "\n",
       "    .dataframe tbody tr th {\n",
       "        vertical-align: top;\n",
       "    }\n",
       "\n",
       "    .dataframe thead th {\n",
       "        text-align: right;\n",
       "    }\n",
       "</style>\n",
       "<table border=\"1\" class=\"dataframe\">\n",
       "  <thead>\n",
       "    <tr style=\"text-align: right;\">\n",
       "      <th></th>\n",
       "      <th>overall</th>\n",
       "      <th>unixReviewTime</th>\n",
       "    </tr>\n",
       "  </thead>\n",
       "  <tbody>\n",
       "    <tr>\n",
       "      <th>count</th>\n",
       "      <td>883636.00000</td>\n",
       "      <td>8.836360e+05</td>\n",
       "    </tr>\n",
       "    <tr>\n",
       "      <th>mean</th>\n",
       "      <td>3.90694</td>\n",
       "      <td>1.456751e+09</td>\n",
       "    </tr>\n",
       "    <tr>\n",
       "      <th>std</th>\n",
       "      <td>1.41828</td>\n",
       "      <td>4.430691e+07</td>\n",
       "    </tr>\n",
       "    <tr>\n",
       "      <th>min</th>\n",
       "      <td>1.00000</td>\n",
       "      <td>1.036973e+09</td>\n",
       "    </tr>\n",
       "    <tr>\n",
       "      <th>25%</th>\n",
       "      <td>3.00000</td>\n",
       "      <td>1.434240e+09</td>\n",
       "    </tr>\n",
       "    <tr>\n",
       "      <th>50%</th>\n",
       "      <td>5.00000</td>\n",
       "      <td>1.462234e+09</td>\n",
       "    </tr>\n",
       "    <tr>\n",
       "      <th>75%</th>\n",
       "      <td>5.00000</td>\n",
       "      <td>1.484266e+09</td>\n",
       "    </tr>\n",
       "    <tr>\n",
       "      <th>max</th>\n",
       "      <td>5.00000</td>\n",
       "      <td>1.538352e+09</td>\n",
       "    </tr>\n",
       "  </tbody>\n",
       "</table>\n",
       "</div>"
      ],
      "text/plain": [
       "            overall  unixReviewTime\n",
       "count  883636.00000    8.836360e+05\n",
       "mean        3.90694    1.456751e+09\n",
       "std         1.41828    4.430691e+07\n",
       "min         1.00000    1.036973e+09\n",
       "25%         3.00000    1.434240e+09\n",
       "50%         5.00000    1.462234e+09\n",
       "75%         5.00000    1.484266e+09\n",
       "max         5.00000    1.538352e+09"
      ]
     },
     "execution_count": 4,
     "metadata": {},
     "output_type": "execute_result"
    }
   ],
   "source": [
    "df_review.describe()"
   ]
  },
  {
   "cell_type": "code",
   "execution_count": 5,
   "metadata": {},
   "outputs": [
    {
     "data": {
      "text/html": [
       "<div>\n",
       "<style scoped>\n",
       "    .dataframe tbody tr th:only-of-type {\n",
       "        vertical-align: middle;\n",
       "    }\n",
       "\n",
       "    .dataframe tbody tr th {\n",
       "        vertical-align: top;\n",
       "    }\n",
       "\n",
       "    .dataframe thead th {\n",
       "        text-align: right;\n",
       "    }\n",
       "</style>\n",
       "<table border=\"1\" class=\"dataframe\">\n",
       "  <thead>\n",
       "    <tr style=\"text-align: right;\">\n",
       "      <th></th>\n",
       "      <th>overall</th>\n",
       "      <th>verified</th>\n",
       "      <th>reviewTime</th>\n",
       "      <th>reviewerID</th>\n",
       "      <th>asin</th>\n",
       "      <th>reviewerName</th>\n",
       "      <th>reviewText</th>\n",
       "      <th>summary</th>\n",
       "      <th>unixReviewTime</th>\n",
       "      <th>vote</th>\n",
       "      <th>style</th>\n",
       "      <th>image</th>\n",
       "    </tr>\n",
       "  </thead>\n",
       "  <tbody>\n",
       "    <tr>\n",
       "      <th>0</th>\n",
       "      <td>5.0</td>\n",
       "      <td>True</td>\n",
       "      <td>10 20, 2014</td>\n",
       "      <td>A1D4G1SNUZWQOT</td>\n",
       "      <td>7106116521</td>\n",
       "      <td>Tracy</td>\n",
       "      <td>Exactly what I needed.</td>\n",
       "      <td>perfect replacements!!</td>\n",
       "      <td>1413763200</td>\n",
       "      <td>NaN</td>\n",
       "      <td>NaN</td>\n",
       "      <td>NaN</td>\n",
       "    </tr>\n",
       "    <tr>\n",
       "      <th>1</th>\n",
       "      <td>2.0</td>\n",
       "      <td>True</td>\n",
       "      <td>09 28, 2014</td>\n",
       "      <td>A3DDWDH9PX2YX2</td>\n",
       "      <td>7106116521</td>\n",
       "      <td>Sonja Lau</td>\n",
       "      <td>I agree with the other review, the opening is ...</td>\n",
       "      <td>I agree with the other review, the opening is ...</td>\n",
       "      <td>1411862400</td>\n",
       "      <td>3</td>\n",
       "      <td>NaN</td>\n",
       "      <td>NaN</td>\n",
       "    </tr>\n",
       "    <tr>\n",
       "      <th>2</th>\n",
       "      <td>4.0</td>\n",
       "      <td>False</td>\n",
       "      <td>08 25, 2014</td>\n",
       "      <td>A2MWC41EW7XL15</td>\n",
       "      <td>7106116521</td>\n",
       "      <td>Kathleen</td>\n",
       "      <td>Love these... I am going to order another pack...</td>\n",
       "      <td>My New 'Friends' !!</td>\n",
       "      <td>1408924800</td>\n",
       "      <td>NaN</td>\n",
       "      <td>NaN</td>\n",
       "      <td>NaN</td>\n",
       "    </tr>\n",
       "    <tr>\n",
       "      <th>3</th>\n",
       "      <td>2.0</td>\n",
       "      <td>True</td>\n",
       "      <td>08 24, 2014</td>\n",
       "      <td>A2UH2QQ275NV45</td>\n",
       "      <td>7106116521</td>\n",
       "      <td>Jodi Stoner</td>\n",
       "      <td>too tiny an opening</td>\n",
       "      <td>Two Stars</td>\n",
       "      <td>1408838400</td>\n",
       "      <td>NaN</td>\n",
       "      <td>NaN</td>\n",
       "      <td>NaN</td>\n",
       "    </tr>\n",
       "    <tr>\n",
       "      <th>4</th>\n",
       "      <td>3.0</td>\n",
       "      <td>False</td>\n",
       "      <td>07 27, 2014</td>\n",
       "      <td>A89F3LQADZBS5</td>\n",
       "      <td>7106116521</td>\n",
       "      <td>Alexander D.</td>\n",
       "      <td>Okay</td>\n",
       "      <td>Three Stars</td>\n",
       "      <td>1406419200</td>\n",
       "      <td>NaN</td>\n",
       "      <td>NaN</td>\n",
       "      <td>NaN</td>\n",
       "    </tr>\n",
       "  </tbody>\n",
       "</table>\n",
       "</div>"
      ],
      "text/plain": [
       "   overall  verified   reviewTime      reviewerID        asin  reviewerName  \\\n",
       "0      5.0      True  10 20, 2014  A1D4G1SNUZWQOT  7106116521         Tracy   \n",
       "1      2.0      True  09 28, 2014  A3DDWDH9PX2YX2  7106116521     Sonja Lau   \n",
       "2      4.0     False  08 25, 2014  A2MWC41EW7XL15  7106116521      Kathleen   \n",
       "3      2.0      True  08 24, 2014  A2UH2QQ275NV45  7106116521   Jodi Stoner   \n",
       "4      3.0     False  07 27, 2014   A89F3LQADZBS5  7106116521  Alexander D.   \n",
       "\n",
       "                                          reviewText  \\\n",
       "0                             Exactly what I needed.   \n",
       "1  I agree with the other review, the opening is ...   \n",
       "2  Love these... I am going to order another pack...   \n",
       "3                                too tiny an opening   \n",
       "4                                               Okay   \n",
       "\n",
       "                                             summary  unixReviewTime vote  \\\n",
       "0                             perfect replacements!!      1413763200  NaN   \n",
       "1  I agree with the other review, the opening is ...      1411862400    3   \n",
       "2                                My New 'Friends' !!      1408924800  NaN   \n",
       "3                                          Two Stars      1408838400  NaN   \n",
       "4                                        Three Stars      1406419200  NaN   \n",
       "\n",
       "  style image  \n",
       "0   NaN   NaN  \n",
       "1   NaN   NaN  \n",
       "2   NaN   NaN  \n",
       "3   NaN   NaN  \n",
       "4   NaN   NaN  "
      ]
     },
     "execution_count": 5,
     "metadata": {},
     "output_type": "execute_result"
    }
   ],
   "source": [
    "df_review.head()"
   ]
  },
  {
   "cell_type": "code",
   "execution_count": 6,
   "metadata": {},
   "outputs": [],
   "source": [
    "df_meta = getDF('resources/meta_AMAZON_FASHION.json.gz')"
   ]
  },
  {
   "cell_type": "code",
   "execution_count": 7,
   "metadata": {},
   "outputs": [
    {
     "name": "stdout",
     "output_type": "stream",
     "text": [
      "<class 'pandas.core.frame.DataFrame'>\n",
      "Int64Index: 186637 entries, 0 to 186636\n",
      "Data columns (total 15 columns):\n",
      "title           186632 non-null object\n",
      "image           132017 non-null object\n",
      "brand           139957 non-null object\n",
      "feature         123875 non-null object\n",
      "rank            180222 non-null object\n",
      "date            185001 non-null object\n",
      "asin            186637 non-null object\n",
      "description     15869 non-null object\n",
      "price           17799 non-null object\n",
      "also_view       11595 non-null object\n",
      "also_buy        21642 non-null object\n",
      "fit             4831 non-null object\n",
      "details         885 non-null object\n",
      "similar_item    317 non-null object\n",
      "tech1           97 non-null object\n",
      "dtypes: object(15)\n",
      "memory usage: 22.8+ MB\n"
     ]
    }
   ],
   "source": [
    "df_meta.info()"
   ]
  },
  {
   "cell_type": "code",
   "execution_count": 8,
   "metadata": {
    "scrolled": true
   },
   "outputs": [
    {
     "data": {
      "text/html": [
       "<div>\n",
       "<style scoped>\n",
       "    .dataframe tbody tr th:only-of-type {\n",
       "        vertical-align: middle;\n",
       "    }\n",
       "\n",
       "    .dataframe tbody tr th {\n",
       "        vertical-align: top;\n",
       "    }\n",
       "\n",
       "    .dataframe thead th {\n",
       "        text-align: right;\n",
       "    }\n",
       "</style>\n",
       "<table border=\"1\" class=\"dataframe\">\n",
       "  <thead>\n",
       "    <tr style=\"text-align: right;\">\n",
       "      <th></th>\n",
       "      <th>title</th>\n",
       "      <th>image</th>\n",
       "      <th>brand</th>\n",
       "      <th>feature</th>\n",
       "      <th>rank</th>\n",
       "      <th>date</th>\n",
       "      <th>asin</th>\n",
       "      <th>description</th>\n",
       "      <th>price</th>\n",
       "      <th>also_view</th>\n",
       "      <th>also_buy</th>\n",
       "      <th>fit</th>\n",
       "      <th>details</th>\n",
       "      <th>similar_item</th>\n",
       "      <th>tech1</th>\n",
       "    </tr>\n",
       "  </thead>\n",
       "  <tbody>\n",
       "    <tr>\n",
       "      <th>186632</th>\n",
       "      <td>JT Women's Elegant Off Shoulder Chiffon Maxi L...</td>\n",
       "      <td>[https://images-na.ssl-images-amazon.com/image...</td>\n",
       "      <td>JT</td>\n",
       "      <td>NaN</td>\n",
       "      <td>9,835,890inClothing,ShoesJewelry(</td>\n",
       "      <td>5 star</td>\n",
       "      <td>B01HJGXL4O</td>\n",
       "      <td>NaN</td>\n",
       "      <td>NaN</td>\n",
       "      <td>NaN</td>\n",
       "      <td>NaN</td>\n",
       "      <td>NaN</td>\n",
       "      <td>NaN</td>\n",
       "      <td>NaN</td>\n",
       "      <td>NaN</td>\n",
       "    </tr>\n",
       "    <tr>\n",
       "      <th>186633</th>\n",
       "      <td>Microcosm Retro Vintage Black Crochet Lace One...</td>\n",
       "      <td>[https://images-na.ssl-images-amazon.com/image...</td>\n",
       "      <td>Microcosm</td>\n",
       "      <td>[Package Dimensions:\\n                    \\n7....</td>\n",
       "      <td>11,390,771inClothing,ShoesJewelry(</td>\n",
       "      <td>5 star5 star (0%)</td>\n",
       "      <td>B01HJHF97K</td>\n",
       "      <td>NaN</td>\n",
       "      <td>NaN</td>\n",
       "      <td>NaN</td>\n",
       "      <td>NaN</td>\n",
       "      <td>NaN</td>\n",
       "      <td>NaN</td>\n",
       "      <td>NaN</td>\n",
       "      <td>NaN</td>\n",
       "    </tr>\n",
       "    <tr>\n",
       "      <th>186634</th>\n",
       "      <td>Lookatool Classic Plain Vintage Army Military ...</td>\n",
       "      <td>[https://images-na.ssl-images-amazon.com/image...</td>\n",
       "      <td>Lookatool</td>\n",
       "      <td>[Cotton+Polyester, Imported, Item type:Basebal...</td>\n",
       "      <td>972,275inClothing,ShoesJewelry(</td>\n",
       "      <td>5 star</td>\n",
       "      <td>B01HJGJ9LS</td>\n",
       "      <td>NaN</td>\n",
       "      <td>$8.53</td>\n",
       "      <td>[B00XLECZMS, B0018MQAOY, B00N833I4Q, B074DQSPP...</td>\n",
       "      <td>[B07BHQ1FXL, B00XLECZMS, B07CJWM5WY, B07CS97C1...</td>\n",
       "      <td>class=\"a-normal a-align-center a-spacing-smal...</td>\n",
       "      <td>NaN</td>\n",
       "      <td>NaN</td>\n",
       "      <td>NaN</td>\n",
       "    </tr>\n",
       "    <tr>\n",
       "      <th>186635</th>\n",
       "      <td>Edith Windsor Women's Deep V-neck Beaded Sequi...</td>\n",
       "      <td>[https://images-na.ssl-images-amazon.com/image...</td>\n",
       "      <td>Edith Windsor</td>\n",
       "      <td>[Product Dimensions:\\n                    \\n9....</td>\n",
       "      <td>1,964,585inClothing,ShoesJewelry(</td>\n",
       "      <td>5 star</td>\n",
       "      <td>B01HJHTH5U</td>\n",
       "      <td>NaN</td>\n",
       "      <td>NaN</td>\n",
       "      <td>NaN</td>\n",
       "      <td>[B077ZLGMJ3]</td>\n",
       "      <td>NaN</td>\n",
       "      <td>NaN</td>\n",
       "      <td>NaN</td>\n",
       "      <td>NaN</td>\n",
       "    </tr>\n",
       "    <tr>\n",
       "      <th>186636</th>\n",
       "      <td>Aeropostale Women's Sun &amp; Waves Crop Cami L Gr...</td>\n",
       "      <td>[https://images-na.ssl-images-amazon.com/image...</td>\n",
       "      <td>NaN</td>\n",
       "      <td>[Product Dimensions:\\n                    \\n5 ...</td>\n",
       "      <td>9,379,125inClothing,ShoesJewelry(</td>\n",
       "      <td>5 star</td>\n",
       "      <td>B01HJFNU7S</td>\n",
       "      <td>NaN</td>\n",
       "      <td>NaN</td>\n",
       "      <td>NaN</td>\n",
       "      <td>NaN</td>\n",
       "      <td>NaN</td>\n",
       "      <td>NaN</td>\n",
       "      <td>NaN</td>\n",
       "      <td>NaN</td>\n",
       "    </tr>\n",
       "  </tbody>\n",
       "</table>\n",
       "</div>"
      ],
      "text/plain": [
       "                                                    title  \\\n",
       "186632  JT Women's Elegant Off Shoulder Chiffon Maxi L...   \n",
       "186633  Microcosm Retro Vintage Black Crochet Lace One...   \n",
       "186634  Lookatool Classic Plain Vintage Army Military ...   \n",
       "186635  Edith Windsor Women's Deep V-neck Beaded Sequi...   \n",
       "186636  Aeropostale Women's Sun & Waves Crop Cami L Gr...   \n",
       "\n",
       "                                                    image          brand  \\\n",
       "186632  [https://images-na.ssl-images-amazon.com/image...             JT   \n",
       "186633  [https://images-na.ssl-images-amazon.com/image...      Microcosm   \n",
       "186634  [https://images-na.ssl-images-amazon.com/image...      Lookatool   \n",
       "186635  [https://images-na.ssl-images-amazon.com/image...  Edith Windsor   \n",
       "186636  [https://images-na.ssl-images-amazon.com/image...            NaN   \n",
       "\n",
       "                                                  feature  \\\n",
       "186632                                                NaN   \n",
       "186633  [Package Dimensions:\\n                    \\n7....   \n",
       "186634  [Cotton+Polyester, Imported, Item type:Basebal...   \n",
       "186635  [Product Dimensions:\\n                    \\n9....   \n",
       "186636  [Product Dimensions:\\n                    \\n5 ...   \n",
       "\n",
       "                                      rank               date        asin  \\\n",
       "186632   9,835,890inClothing,ShoesJewelry(             5 star  B01HJGXL4O   \n",
       "186633  11,390,771inClothing,ShoesJewelry(  5 star5 star (0%)  B01HJHF97K   \n",
       "186634     972,275inClothing,ShoesJewelry(             5 star  B01HJGJ9LS   \n",
       "186635   1,964,585inClothing,ShoesJewelry(             5 star  B01HJHTH5U   \n",
       "186636   9,379,125inClothing,ShoesJewelry(             5 star  B01HJFNU7S   \n",
       "\n",
       "       description  price                                          also_view  \\\n",
       "186632         NaN    NaN                                                NaN   \n",
       "186633         NaN    NaN                                                NaN   \n",
       "186634         NaN  $8.53  [B00XLECZMS, B0018MQAOY, B00N833I4Q, B074DQSPP...   \n",
       "186635         NaN    NaN                                                NaN   \n",
       "186636         NaN    NaN                                                NaN   \n",
       "\n",
       "                                                 also_buy  \\\n",
       "186632                                                NaN   \n",
       "186633                                                NaN   \n",
       "186634  [B07BHQ1FXL, B00XLECZMS, B07CJWM5WY, B07CS97C1...   \n",
       "186635                                       [B077ZLGMJ3]   \n",
       "186636                                                NaN   \n",
       "\n",
       "                                                      fit details  \\\n",
       "186632                                                NaN     NaN   \n",
       "186633                                                NaN     NaN   \n",
       "186634   class=\"a-normal a-align-center a-spacing-smal...     NaN   \n",
       "186635                                                NaN     NaN   \n",
       "186636                                                NaN     NaN   \n",
       "\n",
       "       similar_item tech1  \n",
       "186632          NaN   NaN  \n",
       "186633          NaN   NaN  \n",
       "186634          NaN   NaN  \n",
       "186635          NaN   NaN  \n",
       "186636          NaN   NaN  "
      ]
     },
     "execution_count": 8,
     "metadata": {},
     "output_type": "execute_result"
    }
   ],
   "source": [
    "df_meta.tail()"
   ]
  },
  {
   "cell_type": "code",
   "execution_count": 9,
   "metadata": {},
   "outputs": [],
   "source": [
    "# subset data of interest\n",
    "df_review = df_review[['asin', 'overall']]\n",
    "df_meta = df_meta[['asin','brand','rank','price']]"
   ]
  },
  {
   "cell_type": "code",
   "execution_count": 10,
   "metadata": {},
   "outputs": [
    {
     "name": "stdout",
     "output_type": "stream",
     "text": [
      "<class 'pandas.core.frame.DataFrame'>\n",
      "Int64Index: 883636 entries, 0 to 883635\n",
      "Data columns (total 2 columns):\n",
      "asin       883636 non-null object\n",
      "overall    883636 non-null float64\n",
      "dtypes: float64(1), object(1)\n",
      "memory usage: 20.2+ MB\n"
     ]
    }
   ],
   "source": [
    "df_review.info()"
   ]
  },
  {
   "cell_type": "code",
   "execution_count": 11,
   "metadata": {},
   "outputs": [
    {
     "name": "stdout",
     "output_type": "stream",
     "text": [
      "<class 'pandas.core.frame.DataFrame'>\n",
      "Int64Index: 186637 entries, 0 to 186636\n",
      "Data columns (total 4 columns):\n",
      "asin     186637 non-null object\n",
      "brand    139957 non-null object\n",
      "rank     180222 non-null object\n",
      "price    17799 non-null object\n",
      "dtypes: object(4)\n",
      "memory usage: 7.1+ MB\n"
     ]
    }
   ],
   "source": [
    "df_meta.info()"
   ]
  },
  {
   "cell_type": "markdown",
   "metadata": {},
   "source": [
    "### Clean-up Data and Manage Datasets"
   ]
  },
  {
   "cell_type": "code",
   "execution_count": 12,
   "metadata": {},
   "outputs": [
    {
     "data": {
      "text/plain": [
       "array([5., 2., 4., 3., 1.])"
      ]
     },
     "execution_count": 12,
     "metadata": {},
     "output_type": "execute_result"
    }
   ],
   "source": [
    "df_review.overall.unique()"
   ]
  },
  {
   "cell_type": "code",
   "execution_count": 13,
   "metadata": {},
   "outputs": [
    {
     "data": {
      "text/plain": [
       "<matplotlib.axes._subplots.AxesSubplot at 0x1e6cb8cbd68>"
      ]
     },
     "execution_count": 13,
     "metadata": {},
     "output_type": "execute_result"
    },
    {
     "data": {
      "image/png": "[encoded data removed]",
      "text/plain": [
       "<Figure size 432x288 with 1 Axes>"
      ]
     },
     "metadata": {
      "needs_background": "light"
     },
     "output_type": "display_data"
    }
   ],
   "source": [
    "# sns.distplot(df_review['overall'], kde=False)\n",
    "sns.countplot(df_review['overall'])"
   ]
  },
  {
   "cell_type": "code",
   "execution_count": 14,
   "metadata": {},
   "outputs": [
    {
     "data": {
      "text/plain": [
       "array(['Group Publishing (CO)', nan, 'Christopher Manos', ..., 'Hosaire',\n",
       "       'Ginee18', 'Vincico'], dtype=object)"
      ]
     },
     "execution_count": 14,
     "metadata": {},
     "output_type": "execute_result"
    }
   ],
   "source": [
    "df_meta.brand.unique()"
   ]
  },
  {
   "cell_type": "code",
   "execution_count": null,
   "metadata": {},
   "outputs": [],
   "source": [
    "# sns.countplot(df_meta['brand'])"
   ]
  },
  {
   "cell_type": "code",
   "execution_count": 31,
   "metadata": {},
   "outputs": [
    {
     "data": {
      "text/plain": [
       "0    13,052,976inClothing,Shoesamp;Jewelry(\n",
       "1    11,654,581inClothing,Shoesamp;Jewelry(\n",
       "2        19,308,073inClothing,ShoesJewelry(\n",
       "3        19,734,184inClothing,ShoesJewelry(\n",
       "4    10,558,646inClothing,Shoesamp;Jewelry(\n",
       "Name: rank, dtype: object"
      ]
     },
     "execution_count": 31,
     "metadata": {},
     "output_type": "execute_result"
    }
   ],
   "source": [
    "df_meta['rank'].head()"
   ]
  },
  {
   "cell_type": "code",
   "execution_count": 33,
   "metadata": {},
   "outputs": [
    {
     "data": {
      "text/plain": [
       "0    <generator object <genexpr> at 0x000001E6DA99B...\n",
       "1    <generator object <genexpr> at 0x000001E6DA99B...\n",
       "2    <generator object <genexpr> at 0x000001E6DA99B...\n",
       "3    <generator object <genexpr> at 0x000001E6DA99B...\n",
       "4    <generator object <genexpr> at 0x000001E6DA99B...\n",
       "Name: rankvalue, dtype: object"
      ]
     },
     "execution_count": 33,
     "metadata": {},
     "output_type": "execute_result"
    }
   ],
   "source": [
    "df_meta['rankvalue'] = (x.str[0] for x in df_meta['rank'])\n",
    "df_meta['rankvalue'].head()"
   ]
  },
  {
   "cell_type": "markdown",
   "metadata": {},
   "source": [
    "### Feature engineering"
   ]
  },
  {
   "cell_type": "code",
   "execution_count": null,
   "metadata": {},
   "outputs": [],
   "source": []
  },
  {
   "cell_type": "markdown",
   "metadata": {},
   "source": [
    "### Decision Tree Model"
   ]
  },
  {
   "cell_type": "code",
   "execution_count": null,
   "metadata": {},
   "outputs": [],
   "source": []
  },
  {
   "cell_type": "markdown",
   "metadata": {},
   "source": [
    "### Random Forest Model"
   ]
  },
  {
   "cell_type": "code",
   "execution_count": null,
   "metadata": {},
   "outputs": [],
   "source": []
  },
  {
   "cell_type": "markdown",
   "metadata": {},
   "source": [
    "### Logistic Regression Model"
   ]
  },
  {
   "cell_type": "code",
   "execution_count": null,
   "metadata": {},
   "outputs": [],
   "source": []
  },
  {
   "cell_type": "markdown",
   "metadata": {},
   "source": [
    "### Model Selection"
   ]
  },
  {
   "cell_type": "code",
   "execution_count": null,
   "metadata": {},
   "outputs": [],
   "source": []
  },
  {
   "cell_type": "markdown",
   "metadata": {},
   "source": [
    "### Conclusion"
   ]
  },
  {
   "cell_type": "code",
   "execution_count": null,
   "metadata": {},
   "outputs": [],
   "source": []
  }
 ],
 "metadata": {
  "kernelspec": {
   "display_name": "Python 3",
   "language": "python",
   "name": "python3"
  },
  "language_info": {
   "codemirror_mode": {
    "name": "ipython",
    "version": 3
   },
   "file_extension": ".py",
   "mimetype": "text/x-python",
   "name": "python",
   "nbconvert_exporter": "python",
   "pygments_lexer": "ipython3",
   "version": "3.7.1"
  }
 },
 "nbformat": 4,
 "nbformat_minor": 2
}
